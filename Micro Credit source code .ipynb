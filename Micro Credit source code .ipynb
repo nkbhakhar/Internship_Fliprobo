{
 "cells": [
  {
   "cell_type": "markdown",
   "metadata": {},
   "source": [
    "# Project 1 Predict weather a loan will be defalted or paid\n"
   ]
  },
  {
   "cell_type": "markdown",
   "metadata": {},
   "source": [
    "# Data cleaning "
   ]
  },
  {
   "cell_type": "code",
   "execution_count": 87,
   "metadata": {},
   "outputs": [],
   "source": [
    "import pandas as pd \n",
    "import numpy as np \n",
    "import sklearn\n",
    "import seaborn as sns \n",
    "import matplotlib.pyplot as plt\n",
    "import warnings\n",
    "warnings.filterwarnings('ignore')\n",
    "\n",
    "from sklearn.linear_model import Lasso,Ridge\n",
    "\n",
    " #for logestic regresion\n",
    "from sklearn.linear_model import LogisticRegression\n",
    "from sklearn.metrics import accuracy_score\n",
    "from sklearn.metrics import confusion_matrix , classification_report\n",
    "from sklearn.model_selection import train_test_split\n",
    "\n",
    "#for DecisionTree\n",
    "from sklearn.tree import DecisionTreeClassifier\n",
    "\n",
    "#for knn\n",
    "from sklearn.neighbors import KNeighborsClassifier\n",
    "\n",
    "from sklearn.metrics import accuracy_score, confusion_matrix,classification_report"
   ]
  },
  {
   "cell_type": "code",
   "execution_count": 88,
   "metadata": {},
   "outputs": [
    {
     "name": "stdout",
     "output_type": "stream",
     "text": [
      "        Unnamed: 0  label       msisdn     aon  daily_decr30  daily_decr90  \\\n",
      "0                1      0  21408I70789   272.0   3055.050000   3065.150000   \n",
      "1                2      1  76462I70374   712.0  12122.000000  12124.750000   \n",
      "2                3      1  17943I70372   535.0   1398.000000   1398.000000   \n",
      "3                4      1  55773I70781   241.0     21.228000     21.228000   \n",
      "4                5      1  03813I82730   947.0    150.619333    150.619333   \n",
      "...            ...    ...          ...     ...           ...           ...   \n",
      "209588      209589      1  22758I85348   404.0    151.872333    151.872333   \n",
      "209589      209590      1  95583I84455  1075.0     36.936000     36.936000   \n",
      "209590      209591      1  28556I85350  1013.0  11843.111667  11904.350000   \n",
      "209591      209592      1  59712I82733  1732.0  12488.228333  12574.370000   \n",
      "209592      209593      1  65061I85339  1581.0   4489.362000   4534.820000   \n",
      "\n",
      "        rental30  rental90  last_rech_date_ma  last_rech_date_da  ...  \\\n",
      "0         220.13    260.13                2.0                0.0  ...   \n",
      "1        3691.26   3691.26               20.0                0.0  ...   \n",
      "2         900.13    900.13                3.0                0.0  ...   \n",
      "3         159.42    159.42               41.0                0.0  ...   \n",
      "4        1098.90   1098.90                4.0                0.0  ...   \n",
      "...          ...       ...                ...                ...  ...   \n",
      "209588   1089.19   1089.19                1.0                0.0  ...   \n",
      "209589   1728.36   1728.36                4.0                0.0  ...   \n",
      "209590   5861.83   8893.20                3.0                0.0  ...   \n",
      "209591    411.83    984.58                2.0               38.0  ...   \n",
      "209592    483.92    631.20               13.0                0.0  ...   \n",
      "\n",
      "        maxamnt_loans30  medianamnt_loans30  cnt_loans90  amnt_loans90  \\\n",
      "0                   6.0                 0.0          2.0            12   \n",
      "1                  12.0                 0.0          1.0            12   \n",
      "2                   6.0                 0.0          1.0             6   \n",
      "3                   6.0                 0.0          2.0            12   \n",
      "4                   6.0                 0.0          7.0            42   \n",
      "...                 ...                 ...          ...           ...   \n",
      "209588              6.0                 0.0          2.0            12   \n",
      "209589              6.0                 0.0          3.0            18   \n",
      "209590             12.0                 0.0          6.0            54   \n",
      "209591             12.0                 0.0          3.0            24   \n",
      "209592             12.0                 0.0          2.0            18   \n",
      "\n",
      "        maxamnt_loans90  medianamnt_loans90  payback30  payback90  pcircle  \\\n",
      "0                     6                 0.0  29.000000  29.000000      UPW   \n",
      "1                    12                 0.0   0.000000   0.000000      UPW   \n",
      "2                     6                 0.0   0.000000   0.000000      UPW   \n",
      "3                     6                 0.0   0.000000   0.000000      UPW   \n",
      "4                     6                 0.0   2.333333   2.333333      UPW   \n",
      "...                 ...                 ...        ...        ...      ...   \n",
      "209588                6                 0.0   1.000000   1.000000      UPW   \n",
      "209589                6                 0.0   1.000000   1.000000      UPW   \n",
      "209590               12                 0.0   4.000000   3.833333      UPW   \n",
      "209591               12                 0.0   0.000000  10.500000      UPW   \n",
      "209592               12                 0.0   0.000000   0.000000      UPW   \n",
      "\n",
      "             pdate  \n",
      "0       2016-07-20  \n",
      "1       2016-08-10  \n",
      "2       2016-08-19  \n",
      "3       2016-06-06  \n",
      "4       2016-06-22  \n",
      "...            ...  \n",
      "209588  2016-06-17  \n",
      "209589  2016-06-12  \n",
      "209590  2016-07-29  \n",
      "209591  2016-07-25  \n",
      "209592  2016-07-07  \n",
      "\n",
      "[209593 rows x 37 columns]\n"
     ]
    }
   ],
   "source": [
    "df=pd.read_csv('Data file.csv')\n",
    "print(df)"
   ]
  },
  {
   "cell_type": "code",
   "execution_count": 89,
   "metadata": {},
   "outputs": [
    {
     "data": {
      "text/plain": [
       "(209593, 37)"
      ]
     },
     "execution_count": 89,
     "metadata": {},
     "output_type": "execute_result"
    }
   ],
   "source": [
    "df.shape"
   ]
  },
  {
   "cell_type": "code",
   "execution_count": 90,
   "metadata": {},
   "outputs": [
    {
     "data": {
      "text/plain": [
       "Unnamed: 0                int64\n",
       "label                     int64\n",
       "msisdn                   object\n",
       "aon                     float64\n",
       "daily_decr30            float64\n",
       "daily_decr90            float64\n",
       "rental30                float64\n",
       "rental90                float64\n",
       "last_rech_date_ma       float64\n",
       "last_rech_date_da       float64\n",
       "last_rech_amt_ma          int64\n",
       "cnt_ma_rech30             int64\n",
       "fr_ma_rech30            float64\n",
       "sumamnt_ma_rech30       float64\n",
       "medianamnt_ma_rech30    float64\n",
       "medianmarechprebal30    float64\n",
       "cnt_ma_rech90             int64\n",
       "fr_ma_rech90              int64\n",
       "sumamnt_ma_rech90         int64\n",
       "medianamnt_ma_rech90    float64\n",
       "medianmarechprebal90    float64\n",
       "cnt_da_rech30           float64\n",
       "fr_da_rech30            float64\n",
       "cnt_da_rech90             int64\n",
       "fr_da_rech90              int64\n",
       "cnt_loans30               int64\n",
       "amnt_loans30              int64\n",
       "maxamnt_loans30         float64\n",
       "medianamnt_loans30      float64\n",
       "cnt_loans90             float64\n",
       "amnt_loans90              int64\n",
       "maxamnt_loans90           int64\n",
       "medianamnt_loans90      float64\n",
       "payback30               float64\n",
       "payback90               float64\n",
       "pcircle                  object\n",
       "pdate                    object\n",
       "dtype: object"
      ]
     },
     "execution_count": 90,
     "metadata": {},
     "output_type": "execute_result"
    }
   ],
   "source": [
    "df.dtypes"
   ]
  },
  {
   "cell_type": "code",
   "execution_count": 91,
   "metadata": {},
   "outputs": [
    {
     "data": {
      "text/html": [
       "<div>\n",
       "<style scoped>\n",
       "    .dataframe tbody tr th:only-of-type {\n",
       "        vertical-align: middle;\n",
       "    }\n",
       "\n",
       "    .dataframe tbody tr th {\n",
       "        vertical-align: top;\n",
       "    }\n",
       "\n",
       "    .dataframe thead th {\n",
       "        text-align: right;\n",
       "    }\n",
       "</style>\n",
       "<table border=\"1\" class=\"dataframe\">\n",
       "  <thead>\n",
       "    <tr style=\"text-align: right;\">\n",
       "      <th></th>\n",
       "      <th>Unnamed: 0</th>\n",
       "      <th>label</th>\n",
       "      <th>aon</th>\n",
       "      <th>daily_decr30</th>\n",
       "      <th>daily_decr90</th>\n",
       "      <th>rental30</th>\n",
       "      <th>rental90</th>\n",
       "      <th>last_rech_date_ma</th>\n",
       "      <th>last_rech_date_da</th>\n",
       "      <th>last_rech_amt_ma</th>\n",
       "      <th>...</th>\n",
       "      <th>cnt_loans30</th>\n",
       "      <th>amnt_loans30</th>\n",
       "      <th>maxamnt_loans30</th>\n",
       "      <th>medianamnt_loans30</th>\n",
       "      <th>cnt_loans90</th>\n",
       "      <th>amnt_loans90</th>\n",
       "      <th>maxamnt_loans90</th>\n",
       "      <th>medianamnt_loans90</th>\n",
       "      <th>payback30</th>\n",
       "      <th>payback90</th>\n",
       "    </tr>\n",
       "  </thead>\n",
       "  <tbody>\n",
       "    <tr>\n",
       "      <th>count</th>\n",
       "      <td>209593.000000</td>\n",
       "      <td>209593.000000</td>\n",
       "      <td>209593.000000</td>\n",
       "      <td>209593.000000</td>\n",
       "      <td>209593.000000</td>\n",
       "      <td>209593.000000</td>\n",
       "      <td>209593.000000</td>\n",
       "      <td>209593.000000</td>\n",
       "      <td>209593.000000</td>\n",
       "      <td>209593.000000</td>\n",
       "      <td>...</td>\n",
       "      <td>209593.000000</td>\n",
       "      <td>209593.000000</td>\n",
       "      <td>209593.000000</td>\n",
       "      <td>209593.000000</td>\n",
       "      <td>209593.000000</td>\n",
       "      <td>209593.000000</td>\n",
       "      <td>209593.000000</td>\n",
       "      <td>209593.000000</td>\n",
       "      <td>209593.000000</td>\n",
       "      <td>209593.000000</td>\n",
       "    </tr>\n",
       "    <tr>\n",
       "      <th>mean</th>\n",
       "      <td>104797.000000</td>\n",
       "      <td>0.875177</td>\n",
       "      <td>8112.343445</td>\n",
       "      <td>5381.402289</td>\n",
       "      <td>6082.515068</td>\n",
       "      <td>2692.581910</td>\n",
       "      <td>3483.406534</td>\n",
       "      <td>3755.847800</td>\n",
       "      <td>3712.202921</td>\n",
       "      <td>2064.452797</td>\n",
       "      <td>...</td>\n",
       "      <td>2.758981</td>\n",
       "      <td>17.952021</td>\n",
       "      <td>274.658747</td>\n",
       "      <td>0.054029</td>\n",
       "      <td>18.520919</td>\n",
       "      <td>23.645398</td>\n",
       "      <td>6.703134</td>\n",
       "      <td>0.046077</td>\n",
       "      <td>3.398826</td>\n",
       "      <td>4.321485</td>\n",
       "    </tr>\n",
       "    <tr>\n",
       "      <th>std</th>\n",
       "      <td>60504.431823</td>\n",
       "      <td>0.330519</td>\n",
       "      <td>75696.082531</td>\n",
       "      <td>9220.623400</td>\n",
       "      <td>10918.812767</td>\n",
       "      <td>4308.586781</td>\n",
       "      <td>5770.461279</td>\n",
       "      <td>53905.892230</td>\n",
       "      <td>53374.833430</td>\n",
       "      <td>2370.786034</td>\n",
       "      <td>...</td>\n",
       "      <td>2.554502</td>\n",
       "      <td>17.379741</td>\n",
       "      <td>4245.264648</td>\n",
       "      <td>0.218039</td>\n",
       "      <td>224.797423</td>\n",
       "      <td>26.469861</td>\n",
       "      <td>2.103864</td>\n",
       "      <td>0.200692</td>\n",
       "      <td>8.813729</td>\n",
       "      <td>10.308108</td>\n",
       "    </tr>\n",
       "    <tr>\n",
       "      <th>min</th>\n",
       "      <td>1.000000</td>\n",
       "      <td>0.000000</td>\n",
       "      <td>-48.000000</td>\n",
       "      <td>-93.012667</td>\n",
       "      <td>-93.012667</td>\n",
       "      <td>-23737.140000</td>\n",
       "      <td>-24720.580000</td>\n",
       "      <td>-29.000000</td>\n",
       "      <td>-29.000000</td>\n",
       "      <td>0.000000</td>\n",
       "      <td>...</td>\n",
       "      <td>0.000000</td>\n",
       "      <td>0.000000</td>\n",
       "      <td>0.000000</td>\n",
       "      <td>0.000000</td>\n",
       "      <td>0.000000</td>\n",
       "      <td>0.000000</td>\n",
       "      <td>0.000000</td>\n",
       "      <td>0.000000</td>\n",
       "      <td>0.000000</td>\n",
       "      <td>0.000000</td>\n",
       "    </tr>\n",
       "    <tr>\n",
       "      <th>25%</th>\n",
       "      <td>52399.000000</td>\n",
       "      <td>1.000000</td>\n",
       "      <td>246.000000</td>\n",
       "      <td>42.440000</td>\n",
       "      <td>42.692000</td>\n",
       "      <td>280.420000</td>\n",
       "      <td>300.260000</td>\n",
       "      <td>1.000000</td>\n",
       "      <td>0.000000</td>\n",
       "      <td>770.000000</td>\n",
       "      <td>...</td>\n",
       "      <td>1.000000</td>\n",
       "      <td>6.000000</td>\n",
       "      <td>6.000000</td>\n",
       "      <td>0.000000</td>\n",
       "      <td>1.000000</td>\n",
       "      <td>6.000000</td>\n",
       "      <td>6.000000</td>\n",
       "      <td>0.000000</td>\n",
       "      <td>0.000000</td>\n",
       "      <td>0.000000</td>\n",
       "    </tr>\n",
       "    <tr>\n",
       "      <th>50%</th>\n",
       "      <td>104797.000000</td>\n",
       "      <td>1.000000</td>\n",
       "      <td>527.000000</td>\n",
       "      <td>1469.175667</td>\n",
       "      <td>1500.000000</td>\n",
       "      <td>1083.570000</td>\n",
       "      <td>1334.000000</td>\n",
       "      <td>3.000000</td>\n",
       "      <td>0.000000</td>\n",
       "      <td>1539.000000</td>\n",
       "      <td>...</td>\n",
       "      <td>2.000000</td>\n",
       "      <td>12.000000</td>\n",
       "      <td>6.000000</td>\n",
       "      <td>0.000000</td>\n",
       "      <td>2.000000</td>\n",
       "      <td>12.000000</td>\n",
       "      <td>6.000000</td>\n",
       "      <td>0.000000</td>\n",
       "      <td>0.000000</td>\n",
       "      <td>1.666667</td>\n",
       "    </tr>\n",
       "    <tr>\n",
       "      <th>75%</th>\n",
       "      <td>157195.000000</td>\n",
       "      <td>1.000000</td>\n",
       "      <td>982.000000</td>\n",
       "      <td>7244.000000</td>\n",
       "      <td>7802.790000</td>\n",
       "      <td>3356.940000</td>\n",
       "      <td>4201.790000</td>\n",
       "      <td>7.000000</td>\n",
       "      <td>0.000000</td>\n",
       "      <td>2309.000000</td>\n",
       "      <td>...</td>\n",
       "      <td>4.000000</td>\n",
       "      <td>24.000000</td>\n",
       "      <td>6.000000</td>\n",
       "      <td>0.000000</td>\n",
       "      <td>5.000000</td>\n",
       "      <td>30.000000</td>\n",
       "      <td>6.000000</td>\n",
       "      <td>0.000000</td>\n",
       "      <td>3.750000</td>\n",
       "      <td>4.500000</td>\n",
       "    </tr>\n",
       "    <tr>\n",
       "      <th>max</th>\n",
       "      <td>209593.000000</td>\n",
       "      <td>1.000000</td>\n",
       "      <td>999860.755168</td>\n",
       "      <td>265926.000000</td>\n",
       "      <td>320630.000000</td>\n",
       "      <td>198926.110000</td>\n",
       "      <td>200148.110000</td>\n",
       "      <td>998650.377733</td>\n",
       "      <td>999171.809410</td>\n",
       "      <td>55000.000000</td>\n",
       "      <td>...</td>\n",
       "      <td>50.000000</td>\n",
       "      <td>306.000000</td>\n",
       "      <td>99864.560864</td>\n",
       "      <td>3.000000</td>\n",
       "      <td>4997.517944</td>\n",
       "      <td>438.000000</td>\n",
       "      <td>12.000000</td>\n",
       "      <td>3.000000</td>\n",
       "      <td>171.500000</td>\n",
       "      <td>171.500000</td>\n",
       "    </tr>\n",
       "  </tbody>\n",
       "</table>\n",
       "<p>8 rows × 34 columns</p>\n",
       "</div>"
      ],
      "text/plain": [
       "          Unnamed: 0          label            aon   daily_decr30  \\\n",
       "count  209593.000000  209593.000000  209593.000000  209593.000000   \n",
       "mean   104797.000000       0.875177    8112.343445    5381.402289   \n",
       "std     60504.431823       0.330519   75696.082531    9220.623400   \n",
       "min         1.000000       0.000000     -48.000000     -93.012667   \n",
       "25%     52399.000000       1.000000     246.000000      42.440000   \n",
       "50%    104797.000000       1.000000     527.000000    1469.175667   \n",
       "75%    157195.000000       1.000000     982.000000    7244.000000   \n",
       "max    209593.000000       1.000000  999860.755168  265926.000000   \n",
       "\n",
       "        daily_decr90       rental30       rental90  last_rech_date_ma  \\\n",
       "count  209593.000000  209593.000000  209593.000000      209593.000000   \n",
       "mean     6082.515068    2692.581910    3483.406534        3755.847800   \n",
       "std     10918.812767    4308.586781    5770.461279       53905.892230   \n",
       "min       -93.012667  -23737.140000  -24720.580000         -29.000000   \n",
       "25%        42.692000     280.420000     300.260000           1.000000   \n",
       "50%      1500.000000    1083.570000    1334.000000           3.000000   \n",
       "75%      7802.790000    3356.940000    4201.790000           7.000000   \n",
       "max    320630.000000  198926.110000  200148.110000      998650.377733   \n",
       "\n",
       "       last_rech_date_da  last_rech_amt_ma  ...    cnt_loans30   amnt_loans30  \\\n",
       "count      209593.000000     209593.000000  ...  209593.000000  209593.000000   \n",
       "mean         3712.202921       2064.452797  ...       2.758981      17.952021   \n",
       "std         53374.833430       2370.786034  ...       2.554502      17.379741   \n",
       "min           -29.000000          0.000000  ...       0.000000       0.000000   \n",
       "25%             0.000000        770.000000  ...       1.000000       6.000000   \n",
       "50%             0.000000       1539.000000  ...       2.000000      12.000000   \n",
       "75%             0.000000       2309.000000  ...       4.000000      24.000000   \n",
       "max        999171.809410      55000.000000  ...      50.000000     306.000000   \n",
       "\n",
       "       maxamnt_loans30  medianamnt_loans30    cnt_loans90   amnt_loans90  \\\n",
       "count    209593.000000       209593.000000  209593.000000  209593.000000   \n",
       "mean        274.658747            0.054029      18.520919      23.645398   \n",
       "std        4245.264648            0.218039     224.797423      26.469861   \n",
       "min           0.000000            0.000000       0.000000       0.000000   \n",
       "25%           6.000000            0.000000       1.000000       6.000000   \n",
       "50%           6.000000            0.000000       2.000000      12.000000   \n",
       "75%           6.000000            0.000000       5.000000      30.000000   \n",
       "max       99864.560864            3.000000    4997.517944     438.000000   \n",
       "\n",
       "       maxamnt_loans90  medianamnt_loans90      payback30      payback90  \n",
       "count    209593.000000       209593.000000  209593.000000  209593.000000  \n",
       "mean          6.703134            0.046077       3.398826       4.321485  \n",
       "std           2.103864            0.200692       8.813729      10.308108  \n",
       "min           0.000000            0.000000       0.000000       0.000000  \n",
       "25%           6.000000            0.000000       0.000000       0.000000  \n",
       "50%           6.000000            0.000000       0.000000       1.666667  \n",
       "75%           6.000000            0.000000       3.750000       4.500000  \n",
       "max          12.000000            3.000000     171.500000     171.500000  \n",
       "\n",
       "[8 rows x 34 columns]"
      ]
     },
     "execution_count": 91,
     "metadata": {},
     "output_type": "execute_result"
    }
   ],
   "source": [
    "df.describe()"
   ]
  },
  {
   "cell_type": "code",
   "execution_count": 92,
   "metadata": {},
   "outputs": [],
   "source": [
    "df= df.drop(columns=['Unnamed: 0','pcircle'  ,'pdate','msisdn' ], axis=1) #  as these column are not significant in findig our prediction so we can drop it "
   ]
  },
  {
   "cell_type": "code",
   "execution_count": 93,
   "metadata": {},
   "outputs": [
    {
     "data": {
      "text/html": [
       "<div>\n",
       "<style scoped>\n",
       "    .dataframe tbody tr th:only-of-type {\n",
       "        vertical-align: middle;\n",
       "    }\n",
       "\n",
       "    .dataframe tbody tr th {\n",
       "        vertical-align: top;\n",
       "    }\n",
       "\n",
       "    .dataframe thead th {\n",
       "        text-align: right;\n",
       "    }\n",
       "</style>\n",
       "<table border=\"1\" class=\"dataframe\">\n",
       "  <thead>\n",
       "    <tr style=\"text-align: right;\">\n",
       "      <th></th>\n",
       "      <th>label</th>\n",
       "      <th>aon</th>\n",
       "      <th>daily_decr30</th>\n",
       "      <th>daily_decr90</th>\n",
       "      <th>rental30</th>\n",
       "      <th>rental90</th>\n",
       "      <th>last_rech_date_ma</th>\n",
       "      <th>last_rech_date_da</th>\n",
       "      <th>last_rech_amt_ma</th>\n",
       "      <th>cnt_ma_rech30</th>\n",
       "      <th>...</th>\n",
       "      <th>cnt_loans30</th>\n",
       "      <th>amnt_loans30</th>\n",
       "      <th>maxamnt_loans30</th>\n",
       "      <th>medianamnt_loans30</th>\n",
       "      <th>cnt_loans90</th>\n",
       "      <th>amnt_loans90</th>\n",
       "      <th>maxamnt_loans90</th>\n",
       "      <th>medianamnt_loans90</th>\n",
       "      <th>payback30</th>\n",
       "      <th>payback90</th>\n",
       "    </tr>\n",
       "  </thead>\n",
       "  <tbody>\n",
       "    <tr>\n",
       "      <th>count</th>\n",
       "      <td>209593.000000</td>\n",
       "      <td>209593.000000</td>\n",
       "      <td>209593.000000</td>\n",
       "      <td>209593.000000</td>\n",
       "      <td>209593.000000</td>\n",
       "      <td>209593.000000</td>\n",
       "      <td>209593.000000</td>\n",
       "      <td>209593.000000</td>\n",
       "      <td>209593.000000</td>\n",
       "      <td>209593.000000</td>\n",
       "      <td>...</td>\n",
       "      <td>209593.000000</td>\n",
       "      <td>209593.000000</td>\n",
       "      <td>209593.000000</td>\n",
       "      <td>209593.000000</td>\n",
       "      <td>209593.000000</td>\n",
       "      <td>209593.000000</td>\n",
       "      <td>209593.000000</td>\n",
       "      <td>209593.000000</td>\n",
       "      <td>209593.000000</td>\n",
       "      <td>209593.000000</td>\n",
       "    </tr>\n",
       "    <tr>\n",
       "      <th>mean</th>\n",
       "      <td>0.875177</td>\n",
       "      <td>8112.343445</td>\n",
       "      <td>5381.402289</td>\n",
       "      <td>6082.515068</td>\n",
       "      <td>2692.581910</td>\n",
       "      <td>3483.406534</td>\n",
       "      <td>3755.847800</td>\n",
       "      <td>3712.202921</td>\n",
       "      <td>2064.452797</td>\n",
       "      <td>3.978057</td>\n",
       "      <td>...</td>\n",
       "      <td>2.758981</td>\n",
       "      <td>17.952021</td>\n",
       "      <td>274.658747</td>\n",
       "      <td>0.054029</td>\n",
       "      <td>18.520919</td>\n",
       "      <td>23.645398</td>\n",
       "      <td>6.703134</td>\n",
       "      <td>0.046077</td>\n",
       "      <td>3.398826</td>\n",
       "      <td>4.321485</td>\n",
       "    </tr>\n",
       "    <tr>\n",
       "      <th>std</th>\n",
       "      <td>0.330519</td>\n",
       "      <td>75696.082531</td>\n",
       "      <td>9220.623400</td>\n",
       "      <td>10918.812767</td>\n",
       "      <td>4308.586781</td>\n",
       "      <td>5770.461279</td>\n",
       "      <td>53905.892230</td>\n",
       "      <td>53374.833430</td>\n",
       "      <td>2370.786034</td>\n",
       "      <td>4.256090</td>\n",
       "      <td>...</td>\n",
       "      <td>2.554502</td>\n",
       "      <td>17.379741</td>\n",
       "      <td>4245.264648</td>\n",
       "      <td>0.218039</td>\n",
       "      <td>224.797423</td>\n",
       "      <td>26.469861</td>\n",
       "      <td>2.103864</td>\n",
       "      <td>0.200692</td>\n",
       "      <td>8.813729</td>\n",
       "      <td>10.308108</td>\n",
       "    </tr>\n",
       "    <tr>\n",
       "      <th>min</th>\n",
       "      <td>0.000000</td>\n",
       "      <td>-48.000000</td>\n",
       "      <td>-93.012667</td>\n",
       "      <td>-93.012667</td>\n",
       "      <td>-23737.140000</td>\n",
       "      <td>-24720.580000</td>\n",
       "      <td>-29.000000</td>\n",
       "      <td>-29.000000</td>\n",
       "      <td>0.000000</td>\n",
       "      <td>0.000000</td>\n",
       "      <td>...</td>\n",
       "      <td>0.000000</td>\n",
       "      <td>0.000000</td>\n",
       "      <td>0.000000</td>\n",
       "      <td>0.000000</td>\n",
       "      <td>0.000000</td>\n",
       "      <td>0.000000</td>\n",
       "      <td>0.000000</td>\n",
       "      <td>0.000000</td>\n",
       "      <td>0.000000</td>\n",
       "      <td>0.000000</td>\n",
       "    </tr>\n",
       "    <tr>\n",
       "      <th>25%</th>\n",
       "      <td>1.000000</td>\n",
       "      <td>246.000000</td>\n",
       "      <td>42.440000</td>\n",
       "      <td>42.692000</td>\n",
       "      <td>280.420000</td>\n",
       "      <td>300.260000</td>\n",
       "      <td>1.000000</td>\n",
       "      <td>0.000000</td>\n",
       "      <td>770.000000</td>\n",
       "      <td>1.000000</td>\n",
       "      <td>...</td>\n",
       "      <td>1.000000</td>\n",
       "      <td>6.000000</td>\n",
       "      <td>6.000000</td>\n",
       "      <td>0.000000</td>\n",
       "      <td>1.000000</td>\n",
       "      <td>6.000000</td>\n",
       "      <td>6.000000</td>\n",
       "      <td>0.000000</td>\n",
       "      <td>0.000000</td>\n",
       "      <td>0.000000</td>\n",
       "    </tr>\n",
       "    <tr>\n",
       "      <th>50%</th>\n",
       "      <td>1.000000</td>\n",
       "      <td>527.000000</td>\n",
       "      <td>1469.175667</td>\n",
       "      <td>1500.000000</td>\n",
       "      <td>1083.570000</td>\n",
       "      <td>1334.000000</td>\n",
       "      <td>3.000000</td>\n",
       "      <td>0.000000</td>\n",
       "      <td>1539.000000</td>\n",
       "      <td>3.000000</td>\n",
       "      <td>...</td>\n",
       "      <td>2.000000</td>\n",
       "      <td>12.000000</td>\n",
       "      <td>6.000000</td>\n",
       "      <td>0.000000</td>\n",
       "      <td>2.000000</td>\n",
       "      <td>12.000000</td>\n",
       "      <td>6.000000</td>\n",
       "      <td>0.000000</td>\n",
       "      <td>0.000000</td>\n",
       "      <td>1.666667</td>\n",
       "    </tr>\n",
       "    <tr>\n",
       "      <th>75%</th>\n",
       "      <td>1.000000</td>\n",
       "      <td>982.000000</td>\n",
       "      <td>7244.000000</td>\n",
       "      <td>7802.790000</td>\n",
       "      <td>3356.940000</td>\n",
       "      <td>4201.790000</td>\n",
       "      <td>7.000000</td>\n",
       "      <td>0.000000</td>\n",
       "      <td>2309.000000</td>\n",
       "      <td>5.000000</td>\n",
       "      <td>...</td>\n",
       "      <td>4.000000</td>\n",
       "      <td>24.000000</td>\n",
       "      <td>6.000000</td>\n",
       "      <td>0.000000</td>\n",
       "      <td>5.000000</td>\n",
       "      <td>30.000000</td>\n",
       "      <td>6.000000</td>\n",
       "      <td>0.000000</td>\n",
       "      <td>3.750000</td>\n",
       "      <td>4.500000</td>\n",
       "    </tr>\n",
       "    <tr>\n",
       "      <th>max</th>\n",
       "      <td>1.000000</td>\n",
       "      <td>999860.755168</td>\n",
       "      <td>265926.000000</td>\n",
       "      <td>320630.000000</td>\n",
       "      <td>198926.110000</td>\n",
       "      <td>200148.110000</td>\n",
       "      <td>998650.377733</td>\n",
       "      <td>999171.809410</td>\n",
       "      <td>55000.000000</td>\n",
       "      <td>203.000000</td>\n",
       "      <td>...</td>\n",
       "      <td>50.000000</td>\n",
       "      <td>306.000000</td>\n",
       "      <td>99864.560864</td>\n",
       "      <td>3.000000</td>\n",
       "      <td>4997.517944</td>\n",
       "      <td>438.000000</td>\n",
       "      <td>12.000000</td>\n",
       "      <td>3.000000</td>\n",
       "      <td>171.500000</td>\n",
       "      <td>171.500000</td>\n",
       "    </tr>\n",
       "  </tbody>\n",
       "</table>\n",
       "<p>8 rows × 33 columns</p>\n",
       "</div>"
      ],
      "text/plain": [
       "               label            aon   daily_decr30   daily_decr90  \\\n",
       "count  209593.000000  209593.000000  209593.000000  209593.000000   \n",
       "mean        0.875177    8112.343445    5381.402289    6082.515068   \n",
       "std         0.330519   75696.082531    9220.623400   10918.812767   \n",
       "min         0.000000     -48.000000     -93.012667     -93.012667   \n",
       "25%         1.000000     246.000000      42.440000      42.692000   \n",
       "50%         1.000000     527.000000    1469.175667    1500.000000   \n",
       "75%         1.000000     982.000000    7244.000000    7802.790000   \n",
       "max         1.000000  999860.755168  265926.000000  320630.000000   \n",
       "\n",
       "            rental30       rental90  last_rech_date_ma  last_rech_date_da  \\\n",
       "count  209593.000000  209593.000000      209593.000000      209593.000000   \n",
       "mean     2692.581910    3483.406534        3755.847800        3712.202921   \n",
       "std      4308.586781    5770.461279       53905.892230       53374.833430   \n",
       "min    -23737.140000  -24720.580000         -29.000000         -29.000000   \n",
       "25%       280.420000     300.260000           1.000000           0.000000   \n",
       "50%      1083.570000    1334.000000           3.000000           0.000000   \n",
       "75%      3356.940000    4201.790000           7.000000           0.000000   \n",
       "max    198926.110000  200148.110000      998650.377733      999171.809410   \n",
       "\n",
       "       last_rech_amt_ma  cnt_ma_rech30  ...    cnt_loans30   amnt_loans30  \\\n",
       "count     209593.000000  209593.000000  ...  209593.000000  209593.000000   \n",
       "mean        2064.452797       3.978057  ...       2.758981      17.952021   \n",
       "std         2370.786034       4.256090  ...       2.554502      17.379741   \n",
       "min            0.000000       0.000000  ...       0.000000       0.000000   \n",
       "25%          770.000000       1.000000  ...       1.000000       6.000000   \n",
       "50%         1539.000000       3.000000  ...       2.000000      12.000000   \n",
       "75%         2309.000000       5.000000  ...       4.000000      24.000000   \n",
       "max        55000.000000     203.000000  ...      50.000000     306.000000   \n",
       "\n",
       "       maxamnt_loans30  medianamnt_loans30    cnt_loans90   amnt_loans90  \\\n",
       "count    209593.000000       209593.000000  209593.000000  209593.000000   \n",
       "mean        274.658747            0.054029      18.520919      23.645398   \n",
       "std        4245.264648            0.218039     224.797423      26.469861   \n",
       "min           0.000000            0.000000       0.000000       0.000000   \n",
       "25%           6.000000            0.000000       1.000000       6.000000   \n",
       "50%           6.000000            0.000000       2.000000      12.000000   \n",
       "75%           6.000000            0.000000       5.000000      30.000000   \n",
       "max       99864.560864            3.000000    4997.517944     438.000000   \n",
       "\n",
       "       maxamnt_loans90  medianamnt_loans90      payback30      payback90  \n",
       "count    209593.000000       209593.000000  209593.000000  209593.000000  \n",
       "mean          6.703134            0.046077       3.398826       4.321485  \n",
       "std           2.103864            0.200692       8.813729      10.308108  \n",
       "min           0.000000            0.000000       0.000000       0.000000  \n",
       "25%           6.000000            0.000000       0.000000       0.000000  \n",
       "50%           6.000000            0.000000       0.000000       1.666667  \n",
       "75%           6.000000            0.000000       3.750000       4.500000  \n",
       "max          12.000000            3.000000     171.500000     171.500000  \n",
       "\n",
       "[8 rows x 33 columns]"
      ]
     },
     "execution_count": 93,
     "metadata": {},
     "output_type": "execute_result"
    }
   ],
   "source": [
    "df.describe()"
   ]
  },
  {
   "cell_type": "code",
   "execution_count": 94,
   "metadata": {},
   "outputs": [],
   "source": [
    "# as we can see in row no 1 (count ) there is no null value in the data "
   ]
  },
  {
   "cell_type": "code",
   "execution_count": 95,
   "metadata": {},
   "outputs": [],
   "source": [
    "correlation=df.corr()"
   ]
  },
  {
   "cell_type": "code",
   "execution_count": null,
   "metadata": {},
   "outputs": [],
   "source": []
  },
  {
   "cell_type": "code",
   "execution_count": 96,
   "metadata": {},
   "outputs": [
    {
     "data": {
      "text/plain": [
       "<AxesSubplot:>"
      ]
     },
     "execution_count": 96,
     "metadata": {},
     "output_type": "execute_result"
    },
    {
     "data": {
      "image/png": "[encoded data removed]",
      "text/plain": [
       "<Figure size 1080x1080 with 2 Axes>"
      ]
     },
     "metadata": {
      "needs_background": "light"
     },
     "output_type": "display_data"
    }
   ],
   "source": [
    "fig, ax = plt.subplots(figsize=(15,15)) \n",
    "mask = np.zeros_like(correlation)\n",
    "mask[np.triu_indices_from(mask)] = True\n",
    "\n",
    "\n",
    "sns.heatmap(correlation,linewidth=.3,vmin=0,vmax=.5,center = 0,linecolor='white',mask=mask)"
   ]
  },
  {
   "cell_type": "code",
   "execution_count": 97,
   "metadata": {},
   "outputs": [],
   "source": [
    "#sns.pairplot(df)"
   ]
  },
  {
   "cell_type": "code",
   "execution_count": null,
   "metadata": {},
   "outputs": [],
   "source": []
  },
  {
   "cell_type": "markdown",
   "metadata": {},
   "source": [
    "# model 1 logestic regresion"
   ]
  },
  {
   "cell_type": "code",
   "execution_count": 98,
   "metadata": {},
   "outputs": [
    {
     "data": {
      "text/plain": [
       "<bound method NDFrame.describe of         label     aon  daily_decr30  daily_decr90  rental30  rental90  \\\n",
       "0           0   272.0   3055.050000   3065.150000    220.13    260.13   \n",
       "1           1   712.0  12122.000000  12124.750000   3691.26   3691.26   \n",
       "2           1   535.0   1398.000000   1398.000000    900.13    900.13   \n",
       "3           1   241.0     21.228000     21.228000    159.42    159.42   \n",
       "4           1   947.0    150.619333    150.619333   1098.90   1098.90   \n",
       "...       ...     ...           ...           ...       ...       ...   \n",
       "209588      1   404.0    151.872333    151.872333   1089.19   1089.19   \n",
       "209589      1  1075.0     36.936000     36.936000   1728.36   1728.36   \n",
       "209590      1  1013.0  11843.111667  11904.350000   5861.83   8893.20   \n",
       "209591      1  1732.0  12488.228333  12574.370000    411.83    984.58   \n",
       "209592      1  1581.0   4489.362000   4534.820000    483.92    631.20   \n",
       "\n",
       "        last_rech_date_ma  last_rech_date_da  last_rech_amt_ma  cnt_ma_rech30  \\\n",
       "0                     2.0                0.0              1539              2   \n",
       "1                    20.0                0.0              5787              1   \n",
       "2                     3.0                0.0              1539              1   \n",
       "3                    41.0                0.0               947              0   \n",
       "4                     4.0                0.0              2309              7   \n",
       "...                   ...                ...               ...            ...   \n",
       "209588                1.0                0.0              4048              3   \n",
       "209589                4.0                0.0               773              4   \n",
       "209590                3.0                0.0              1539              5   \n",
       "209591                2.0               38.0               773              5   \n",
       "209592               13.0                0.0              7526              2   \n",
       "\n",
       "        ...  cnt_loans30  amnt_loans30  maxamnt_loans30  medianamnt_loans30  \\\n",
       "0       ...            2            12              6.0                 0.0   \n",
       "1       ...            1            12             12.0                 0.0   \n",
       "2       ...            1             6              6.0                 0.0   \n",
       "3       ...            2            12              6.0                 0.0   \n",
       "4       ...            7            42              6.0                 0.0   \n",
       "...     ...          ...           ...              ...                 ...   \n",
       "209588  ...            2            12              6.0                 0.0   \n",
       "209589  ...            3            18              6.0                 0.0   \n",
       "209590  ...            4            42             12.0                 0.0   \n",
       "209591  ...            2            18             12.0                 0.0   \n",
       "209592  ...            2            18             12.0                 0.0   \n",
       "\n",
       "        cnt_loans90  amnt_loans90  maxamnt_loans90  medianamnt_loans90  \\\n",
       "0               2.0            12                6                 0.0   \n",
       "1               1.0            12               12                 0.0   \n",
       "2               1.0             6                6                 0.0   \n",
       "3               2.0            12                6                 0.0   \n",
       "4               7.0            42                6                 0.0   \n",
       "...             ...           ...              ...                 ...   \n",
       "209588          2.0            12                6                 0.0   \n",
       "209589          3.0            18                6                 0.0   \n",
       "209590          6.0            54               12                 0.0   \n",
       "209591          3.0            24               12                 0.0   \n",
       "209592          2.0            18               12                 0.0   \n",
       "\n",
       "        payback30  payback90  \n",
       "0       29.000000  29.000000  \n",
       "1        0.000000   0.000000  \n",
       "2        0.000000   0.000000  \n",
       "3        0.000000   0.000000  \n",
       "4        2.333333   2.333333  \n",
       "...           ...        ...  \n",
       "209588   1.000000   1.000000  \n",
       "209589   1.000000   1.000000  \n",
       "209590   4.000000   3.833333  \n",
       "209591   0.000000  10.500000  \n",
       "209592   0.000000   0.000000  \n",
       "\n",
       "[209593 rows x 33 columns]>"
      ]
     },
     "execution_count": 98,
     "metadata": {},
     "output_type": "execute_result"
    }
   ],
   "source": [
    "df.describe"
   ]
  },
  {
   "cell_type": "code",
   "execution_count": 99,
   "metadata": {},
   "outputs": [
    {
     "data": {
      "text/plain": [
       "(209593, 33)"
      ]
     },
     "execution_count": 99,
     "metadata": {},
     "output_type": "execute_result"
    }
   ],
   "source": [
    "df.shape"
   ]
  },
  {
   "cell_type": "code",
   "execution_count": 100,
   "metadata": {},
   "outputs": [],
   "source": [
    "x=df.iloc[ : ,1:33]"
   ]
  },
  {
   "cell_type": "code",
   "execution_count": 101,
   "metadata": {},
   "outputs": [
    {
     "data": {
      "text/html": [
       "<div>\n",
       "<style scoped>\n",
       "    .dataframe tbody tr th:only-of-type {\n",
       "        vertical-align: middle;\n",
       "    }\n",
       "\n",
       "    .dataframe tbody tr th {\n",
       "        vertical-align: top;\n",
       "    }\n",
       "\n",
       "    .dataframe thead th {\n",
       "        text-align: right;\n",
       "    }\n",
       "</style>\n",
       "<table border=\"1\" class=\"dataframe\">\n",
       "  <thead>\n",
       "    <tr style=\"text-align: right;\">\n",
       "      <th></th>\n",
       "      <th>aon</th>\n",
       "      <th>daily_decr30</th>\n",
       "      <th>daily_decr90</th>\n",
       "      <th>rental30</th>\n",
       "      <th>rental90</th>\n",
       "      <th>last_rech_date_ma</th>\n",
       "      <th>last_rech_date_da</th>\n",
       "      <th>last_rech_amt_ma</th>\n",
       "      <th>cnt_ma_rech30</th>\n",
       "      <th>fr_ma_rech30</th>\n",
       "      <th>...</th>\n",
       "      <th>cnt_loans30</th>\n",
       "      <th>amnt_loans30</th>\n",
       "      <th>maxamnt_loans30</th>\n",
       "      <th>medianamnt_loans30</th>\n",
       "      <th>cnt_loans90</th>\n",
       "      <th>amnt_loans90</th>\n",
       "      <th>maxamnt_loans90</th>\n",
       "      <th>medianamnt_loans90</th>\n",
       "      <th>payback30</th>\n",
       "      <th>payback90</th>\n",
       "    </tr>\n",
       "  </thead>\n",
       "  <tbody>\n",
       "    <tr>\n",
       "      <th>0</th>\n",
       "      <td>272.0</td>\n",
       "      <td>3055.050000</td>\n",
       "      <td>3065.150000</td>\n",
       "      <td>220.13</td>\n",
       "      <td>260.13</td>\n",
       "      <td>2.0</td>\n",
       "      <td>0.0</td>\n",
       "      <td>1539</td>\n",
       "      <td>2</td>\n",
       "      <td>21.0</td>\n",
       "      <td>...</td>\n",
       "      <td>2</td>\n",
       "      <td>12</td>\n",
       "      <td>6.0</td>\n",
       "      <td>0.0</td>\n",
       "      <td>2.0</td>\n",
       "      <td>12</td>\n",
       "      <td>6</td>\n",
       "      <td>0.0</td>\n",
       "      <td>29.000000</td>\n",
       "      <td>29.000000</td>\n",
       "    </tr>\n",
       "    <tr>\n",
       "      <th>1</th>\n",
       "      <td>712.0</td>\n",
       "      <td>12122.000000</td>\n",
       "      <td>12124.750000</td>\n",
       "      <td>3691.26</td>\n",
       "      <td>3691.26</td>\n",
       "      <td>20.0</td>\n",
       "      <td>0.0</td>\n",
       "      <td>5787</td>\n",
       "      <td>1</td>\n",
       "      <td>0.0</td>\n",
       "      <td>...</td>\n",
       "      <td>1</td>\n",
       "      <td>12</td>\n",
       "      <td>12.0</td>\n",
       "      <td>0.0</td>\n",
       "      <td>1.0</td>\n",
       "      <td>12</td>\n",
       "      <td>12</td>\n",
       "      <td>0.0</td>\n",
       "      <td>0.000000</td>\n",
       "      <td>0.000000</td>\n",
       "    </tr>\n",
       "    <tr>\n",
       "      <th>2</th>\n",
       "      <td>535.0</td>\n",
       "      <td>1398.000000</td>\n",
       "      <td>1398.000000</td>\n",
       "      <td>900.13</td>\n",
       "      <td>900.13</td>\n",
       "      <td>3.0</td>\n",
       "      <td>0.0</td>\n",
       "      <td>1539</td>\n",
       "      <td>1</td>\n",
       "      <td>0.0</td>\n",
       "      <td>...</td>\n",
       "      <td>1</td>\n",
       "      <td>6</td>\n",
       "      <td>6.0</td>\n",
       "      <td>0.0</td>\n",
       "      <td>1.0</td>\n",
       "      <td>6</td>\n",
       "      <td>6</td>\n",
       "      <td>0.0</td>\n",
       "      <td>0.000000</td>\n",
       "      <td>0.000000</td>\n",
       "    </tr>\n",
       "    <tr>\n",
       "      <th>3</th>\n",
       "      <td>241.0</td>\n",
       "      <td>21.228000</td>\n",
       "      <td>21.228000</td>\n",
       "      <td>159.42</td>\n",
       "      <td>159.42</td>\n",
       "      <td>41.0</td>\n",
       "      <td>0.0</td>\n",
       "      <td>947</td>\n",
       "      <td>0</td>\n",
       "      <td>0.0</td>\n",
       "      <td>...</td>\n",
       "      <td>2</td>\n",
       "      <td>12</td>\n",
       "      <td>6.0</td>\n",
       "      <td>0.0</td>\n",
       "      <td>2.0</td>\n",
       "      <td>12</td>\n",
       "      <td>6</td>\n",
       "      <td>0.0</td>\n",
       "      <td>0.000000</td>\n",
       "      <td>0.000000</td>\n",
       "    </tr>\n",
       "    <tr>\n",
       "      <th>4</th>\n",
       "      <td>947.0</td>\n",
       "      <td>150.619333</td>\n",
       "      <td>150.619333</td>\n",
       "      <td>1098.90</td>\n",
       "      <td>1098.90</td>\n",
       "      <td>4.0</td>\n",
       "      <td>0.0</td>\n",
       "      <td>2309</td>\n",
       "      <td>7</td>\n",
       "      <td>2.0</td>\n",
       "      <td>...</td>\n",
       "      <td>7</td>\n",
       "      <td>42</td>\n",
       "      <td>6.0</td>\n",
       "      <td>0.0</td>\n",
       "      <td>7.0</td>\n",
       "      <td>42</td>\n",
       "      <td>6</td>\n",
       "      <td>0.0</td>\n",
       "      <td>2.333333</td>\n",
       "      <td>2.333333</td>\n",
       "    </tr>\n",
       "    <tr>\n",
       "      <th>...</th>\n",
       "      <td>...</td>\n",
       "      <td>...</td>\n",
       "      <td>...</td>\n",
       "      <td>...</td>\n",
       "      <td>...</td>\n",
       "      <td>...</td>\n",
       "      <td>...</td>\n",
       "      <td>...</td>\n",
       "      <td>...</td>\n",
       "      <td>...</td>\n",
       "      <td>...</td>\n",
       "      <td>...</td>\n",
       "      <td>...</td>\n",
       "      <td>...</td>\n",
       "      <td>...</td>\n",
       "      <td>...</td>\n",
       "      <td>...</td>\n",
       "      <td>...</td>\n",
       "      <td>...</td>\n",
       "      <td>...</td>\n",
       "      <td>...</td>\n",
       "    </tr>\n",
       "    <tr>\n",
       "      <th>209588</th>\n",
       "      <td>404.0</td>\n",
       "      <td>151.872333</td>\n",
       "      <td>151.872333</td>\n",
       "      <td>1089.19</td>\n",
       "      <td>1089.19</td>\n",
       "      <td>1.0</td>\n",
       "      <td>0.0</td>\n",
       "      <td>4048</td>\n",
       "      <td>3</td>\n",
       "      <td>2.0</td>\n",
       "      <td>...</td>\n",
       "      <td>2</td>\n",
       "      <td>12</td>\n",
       "      <td>6.0</td>\n",
       "      <td>0.0</td>\n",
       "      <td>2.0</td>\n",
       "      <td>12</td>\n",
       "      <td>6</td>\n",
       "      <td>0.0</td>\n",
       "      <td>1.000000</td>\n",
       "      <td>1.000000</td>\n",
       "    </tr>\n",
       "    <tr>\n",
       "      <th>209589</th>\n",
       "      <td>1075.0</td>\n",
       "      <td>36.936000</td>\n",
       "      <td>36.936000</td>\n",
       "      <td>1728.36</td>\n",
       "      <td>1728.36</td>\n",
       "      <td>4.0</td>\n",
       "      <td>0.0</td>\n",
       "      <td>773</td>\n",
       "      <td>4</td>\n",
       "      <td>1.0</td>\n",
       "      <td>...</td>\n",
       "      <td>3</td>\n",
       "      <td>18</td>\n",
       "      <td>6.0</td>\n",
       "      <td>0.0</td>\n",
       "      <td>3.0</td>\n",
       "      <td>18</td>\n",
       "      <td>6</td>\n",
       "      <td>0.0</td>\n",
       "      <td>1.000000</td>\n",
       "      <td>1.000000</td>\n",
       "    </tr>\n",
       "    <tr>\n",
       "      <th>209590</th>\n",
       "      <td>1013.0</td>\n",
       "      <td>11843.111667</td>\n",
       "      <td>11904.350000</td>\n",
       "      <td>5861.83</td>\n",
       "      <td>8893.20</td>\n",
       "      <td>3.0</td>\n",
       "      <td>0.0</td>\n",
       "      <td>1539</td>\n",
       "      <td>5</td>\n",
       "      <td>8.0</td>\n",
       "      <td>...</td>\n",
       "      <td>4</td>\n",
       "      <td>42</td>\n",
       "      <td>12.0</td>\n",
       "      <td>0.0</td>\n",
       "      <td>6.0</td>\n",
       "      <td>54</td>\n",
       "      <td>12</td>\n",
       "      <td>0.0</td>\n",
       "      <td>4.000000</td>\n",
       "      <td>3.833333</td>\n",
       "    </tr>\n",
       "    <tr>\n",
       "      <th>209591</th>\n",
       "      <td>1732.0</td>\n",
       "      <td>12488.228333</td>\n",
       "      <td>12574.370000</td>\n",
       "      <td>411.83</td>\n",
       "      <td>984.58</td>\n",
       "      <td>2.0</td>\n",
       "      <td>38.0</td>\n",
       "      <td>773</td>\n",
       "      <td>5</td>\n",
       "      <td>4.0</td>\n",
       "      <td>...</td>\n",
       "      <td>2</td>\n",
       "      <td>18</td>\n",
       "      <td>12.0</td>\n",
       "      <td>0.0</td>\n",
       "      <td>3.0</td>\n",
       "      <td>24</td>\n",
       "      <td>12</td>\n",
       "      <td>0.0</td>\n",
       "      <td>0.000000</td>\n",
       "      <td>10.500000</td>\n",
       "    </tr>\n",
       "    <tr>\n",
       "      <th>209592</th>\n",
       "      <td>1581.0</td>\n",
       "      <td>4489.362000</td>\n",
       "      <td>4534.820000</td>\n",
       "      <td>483.92</td>\n",
       "      <td>631.20</td>\n",
       "      <td>13.0</td>\n",
       "      <td>0.0</td>\n",
       "      <td>7526</td>\n",
       "      <td>2</td>\n",
       "      <td>1.0</td>\n",
       "      <td>...</td>\n",
       "      <td>2</td>\n",
       "      <td>18</td>\n",
       "      <td>12.0</td>\n",
       "      <td>0.0</td>\n",
       "      <td>2.0</td>\n",
       "      <td>18</td>\n",
       "      <td>12</td>\n",
       "      <td>0.0</td>\n",
       "      <td>0.000000</td>\n",
       "      <td>0.000000</td>\n",
       "    </tr>\n",
       "  </tbody>\n",
       "</table>\n",
       "<p>209593 rows × 32 columns</p>\n",
       "</div>"
      ],
      "text/plain": [
       "           aon  daily_decr30  daily_decr90  rental30  rental90  \\\n",
       "0        272.0   3055.050000   3065.150000    220.13    260.13   \n",
       "1        712.0  12122.000000  12124.750000   3691.26   3691.26   \n",
       "2        535.0   1398.000000   1398.000000    900.13    900.13   \n",
       "3        241.0     21.228000     21.228000    159.42    159.42   \n",
       "4        947.0    150.619333    150.619333   1098.90   1098.90   \n",
       "...        ...           ...           ...       ...       ...   \n",
       "209588   404.0    151.872333    151.872333   1089.19   1089.19   \n",
       "209589  1075.0     36.936000     36.936000   1728.36   1728.36   \n",
       "209590  1013.0  11843.111667  11904.350000   5861.83   8893.20   \n",
       "209591  1732.0  12488.228333  12574.370000    411.83    984.58   \n",
       "209592  1581.0   4489.362000   4534.820000    483.92    631.20   \n",
       "\n",
       "        last_rech_date_ma  last_rech_date_da  last_rech_amt_ma  cnt_ma_rech30  \\\n",
       "0                     2.0                0.0              1539              2   \n",
       "1                    20.0                0.0              5787              1   \n",
       "2                     3.0                0.0              1539              1   \n",
       "3                    41.0                0.0               947              0   \n",
       "4                     4.0                0.0              2309              7   \n",
       "...                   ...                ...               ...            ...   \n",
       "209588                1.0                0.0              4048              3   \n",
       "209589                4.0                0.0               773              4   \n",
       "209590                3.0                0.0              1539              5   \n",
       "209591                2.0               38.0               773              5   \n",
       "209592               13.0                0.0              7526              2   \n",
       "\n",
       "        fr_ma_rech30  ...  cnt_loans30  amnt_loans30  maxamnt_loans30  \\\n",
       "0               21.0  ...            2            12              6.0   \n",
       "1                0.0  ...            1            12             12.0   \n",
       "2                0.0  ...            1             6              6.0   \n",
       "3                0.0  ...            2            12              6.0   \n",
       "4                2.0  ...            7            42              6.0   \n",
       "...              ...  ...          ...           ...              ...   \n",
       "209588           2.0  ...            2            12              6.0   \n",
       "209589           1.0  ...            3            18              6.0   \n",
       "209590           8.0  ...            4            42             12.0   \n",
       "209591           4.0  ...            2            18             12.0   \n",
       "209592           1.0  ...            2            18             12.0   \n",
       "\n",
       "        medianamnt_loans30  cnt_loans90  amnt_loans90  maxamnt_loans90  \\\n",
       "0                      0.0          2.0            12                6   \n",
       "1                      0.0          1.0            12               12   \n",
       "2                      0.0          1.0             6                6   \n",
       "3                      0.0          2.0            12                6   \n",
       "4                      0.0          7.0            42                6   \n",
       "...                    ...          ...           ...              ...   \n",
       "209588                 0.0          2.0            12                6   \n",
       "209589                 0.0          3.0            18                6   \n",
       "209590                 0.0          6.0            54               12   \n",
       "209591                 0.0          3.0            24               12   \n",
       "209592                 0.0          2.0            18               12   \n",
       "\n",
       "        medianamnt_loans90  payback30  payback90  \n",
       "0                      0.0  29.000000  29.000000  \n",
       "1                      0.0   0.000000   0.000000  \n",
       "2                      0.0   0.000000   0.000000  \n",
       "3                      0.0   0.000000   0.000000  \n",
       "4                      0.0   2.333333   2.333333  \n",
       "...                    ...        ...        ...  \n",
       "209588                 0.0   1.000000   1.000000  \n",
       "209589                 0.0   1.000000   1.000000  \n",
       "209590                 0.0   4.000000   3.833333  \n",
       "209591                 0.0   0.000000  10.500000  \n",
       "209592                 0.0   0.000000   0.000000  \n",
       "\n",
       "[209593 rows x 32 columns]"
      ]
     },
     "execution_count": 101,
     "metadata": {},
     "output_type": "execute_result"
    }
   ],
   "source": [
    "x"
   ]
  },
  {
   "cell_type": "code",
   "execution_count": 102,
   "metadata": {},
   "outputs": [],
   "source": [
    "y=df.iloc[:,:1]"
   ]
  },
  {
   "cell_type": "code",
   "execution_count": 103,
   "metadata": {},
   "outputs": [
    {
     "data": {
      "text/html": [
       "<div>\n",
       "<style scoped>\n",
       "    .dataframe tbody tr th:only-of-type {\n",
       "        vertical-align: middle;\n",
       "    }\n",
       "\n",
       "    .dataframe tbody tr th {\n",
       "        vertical-align: top;\n",
       "    }\n",
       "\n",
       "    .dataframe thead th {\n",
       "        text-align: right;\n",
       "    }\n",
       "</style>\n",
       "<table border=\"1\" class=\"dataframe\">\n",
       "  <thead>\n",
       "    <tr style=\"text-align: right;\">\n",
       "      <th></th>\n",
       "      <th>label</th>\n",
       "    </tr>\n",
       "  </thead>\n",
       "  <tbody>\n",
       "    <tr>\n",
       "      <th>0</th>\n",
       "      <td>0</td>\n",
       "    </tr>\n",
       "    <tr>\n",
       "      <th>1</th>\n",
       "      <td>1</td>\n",
       "    </tr>\n",
       "    <tr>\n",
       "      <th>2</th>\n",
       "      <td>1</td>\n",
       "    </tr>\n",
       "    <tr>\n",
       "      <th>3</th>\n",
       "      <td>1</td>\n",
       "    </tr>\n",
       "    <tr>\n",
       "      <th>4</th>\n",
       "      <td>1</td>\n",
       "    </tr>\n",
       "    <tr>\n",
       "      <th>...</th>\n",
       "      <td>...</td>\n",
       "    </tr>\n",
       "    <tr>\n",
       "      <th>209588</th>\n",
       "      <td>1</td>\n",
       "    </tr>\n",
       "    <tr>\n",
       "      <th>209589</th>\n",
       "      <td>1</td>\n",
       "    </tr>\n",
       "    <tr>\n",
       "      <th>209590</th>\n",
       "      <td>1</td>\n",
       "    </tr>\n",
       "    <tr>\n",
       "      <th>209591</th>\n",
       "      <td>1</td>\n",
       "    </tr>\n",
       "    <tr>\n",
       "      <th>209592</th>\n",
       "      <td>1</td>\n",
       "    </tr>\n",
       "  </tbody>\n",
       "</table>\n",
       "<p>209593 rows × 1 columns</p>\n",
       "</div>"
      ],
      "text/plain": [
       "        label\n",
       "0           0\n",
       "1           1\n",
       "2           1\n",
       "3           1\n",
       "4           1\n",
       "...       ...\n",
       "209588      1\n",
       "209589      1\n",
       "209590      1\n",
       "209591      1\n",
       "209592      1\n",
       "\n",
       "[209593 rows x 1 columns]"
      ]
     },
     "execution_count": 103,
     "metadata": {},
     "output_type": "execute_result"
    }
   ],
   "source": [
    "y"
   ]
  },
  {
   "cell_type": "code",
   "execution_count": 104,
   "metadata": {},
   "outputs": [
    {
     "data": {
      "text/plain": [
       "(209593, 1)"
      ]
     },
     "execution_count": 104,
     "metadata": {},
     "output_type": "execute_result"
    }
   ],
   "source": [
    "y.shape"
   ]
  },
  {
   "cell_type": "code",
   "execution_count": 105,
   "metadata": {},
   "outputs": [],
   "source": [
    "x_train,x_test,y_train,y_test=train_test_split(x,y,test_size=.33,random_state=42)"
   ]
  },
  {
   "cell_type": "code",
   "execution_count": 106,
   "metadata": {},
   "outputs": [
    {
     "data": {
      "text/plain": [
       "(140427, 32)"
      ]
     },
     "execution_count": 106,
     "metadata": {},
     "output_type": "execute_result"
    }
   ],
   "source": [
    "x_train.shape"
   ]
  },
  {
   "cell_type": "code",
   "execution_count": 107,
   "metadata": {},
   "outputs": [
    {
     "data": {
      "text/plain": [
       "(69166, 32)"
      ]
     },
     "execution_count": 107,
     "metadata": {},
     "output_type": "execute_result"
    }
   ],
   "source": [
    "x_test.shape"
   ]
  },
  {
   "cell_type": "code",
   "execution_count": 108,
   "metadata": {},
   "outputs": [
    {
     "data": {
      "text/plain": [
       "(140427, 1)"
      ]
     },
     "execution_count": 108,
     "metadata": {},
     "output_type": "execute_result"
    }
   ],
   "source": [
    "y_train.shape"
   ]
  },
  {
   "cell_type": "code",
   "execution_count": 109,
   "metadata": {},
   "outputs": [
    {
     "data": {
      "text/plain": [
       "(69166, 1)"
      ]
     },
     "execution_count": 109,
     "metadata": {},
     "output_type": "execute_result"
    }
   ],
   "source": [
    "y_test.shape"
   ]
  },
  {
   "cell_type": "code",
   "execution_count": 110,
   "metadata": {},
   "outputs": [
    {
     "data": {
      "text/plain": [
       "0.08731747393438893"
      ]
     },
     "execution_count": 110,
     "metadata": {},
     "output_type": "execute_result"
    }
   ],
   "source": [
    "ls=Lasso(alpha=0.1)\n",
    "ls.fit(x_train,y_train)\n",
    "ls.score(x_train,y_train)"
   ]
  },
  {
   "cell_type": "code",
   "execution_count": 111,
   "metadata": {},
   "outputs": [
    {
     "data": {
      "text/plain": [
       "array([-1.99701070e-08,  1.18140780e-06, -6.07126065e-07, -1.35906725e-05,\n",
       "        8.80096086e-06,  1.42199860e-08,  3.48031731e-09,  6.44405041e-06,\n",
       "        0.00000000e+00, -2.27097141e-09,  2.07559131e-06,  1.19400326e-05,\n",
       "       -1.50906992e-08,  4.79948856e-03,  2.00080123e-03, -4.71058398e-07,\n",
       "       -1.52511420e-06,  1.71459733e-05,  2.47995914e-07,  9.57086383e-09,\n",
       "       -0.00000000e+00, -0.00000000e+00,  0.00000000e+00,  8.53598205e-04,\n",
       "       -3.74329753e-08,  0.00000000e+00,  6.09237725e-06,  6.66887070e-04,\n",
       "        0.00000000e+00,  0.00000000e+00,  0.00000000e+00,  4.51983676e-04])"
      ]
     },
     "execution_count": 111,
     "metadata": {},
     "output_type": "execute_result"
    }
   ],
   "source": [
    "ls.coef_"
   ]
  },
  {
   "cell_type": "code",
   "execution_count": 112,
   "metadata": {},
   "outputs": [
    {
     "data": {
      "text/plain": [
       "0.10300209250657921"
      ]
     },
     "execution_count": 112,
     "metadata": {},
     "output_type": "execute_result"
    }
   ],
   "source": [
    "rd=Ridge(alpha=0.001)\n",
    "rd.fit(x_train,y_train)\n",
    "rd.score(x_train,y_train)"
   ]
  },
  {
   "cell_type": "code",
   "execution_count": 113,
   "metadata": {},
   "outputs": [
    {
     "data": {
      "text/plain": [
       "array([[-2.05975833e-08,  1.44176385e-06, -1.96196635e-07,\n",
       "        -1.42245451e-05,  8.86695563e-06,  1.05234264e-08,\n",
       "         3.69149269e-09,  8.08393686e-06,  1.76828964e-02,\n",
       "        -1.09303749e-09, -3.40501330e-06,  1.80719183e-05,\n",
       "        -1.12544563e-08,  1.75487493e-03,  2.69136841e-03,\n",
       "         5.82321277e-07, -7.98952306e-07,  1.45612170e-05,\n",
       "         2.52754049e-07,  1.10693890e-08,  2.13105433e-03,\n",
       "        -3.15944430e-03,  1.73752425e-02, -2.38191651e-03,\n",
       "        -6.32351099e-08,  6.57985855e-02,  7.28226515e-06,\n",
       "         4.60460049e-04,  4.62107360e-03,  1.72892228e-02,\n",
       "         9.97023402e-04,  4.67565767e-04]])"
      ]
     },
     "execution_count": 113,
     "metadata": {},
     "output_type": "execute_result"
    }
   ],
   "source": [
    "rd.coef_"
   ]
  },
  {
   "cell_type": "code",
   "execution_count": 114,
   "metadata": {},
   "outputs": [],
   "source": [
    "lg=LogisticRegression()"
   ]
  },
  {
   "cell_type": "code",
   "execution_count": 115,
   "metadata": {},
   "outputs": [
    {
     "data": {
      "text/plain": [
       "LogisticRegression()"
      ]
     },
     "execution_count": 115,
     "metadata": {},
     "output_type": "execute_result"
    }
   ],
   "source": [
    "lg.fit(x_train,y_train)"
   ]
  },
  {
   "cell_type": "code",
   "execution_count": 116,
   "metadata": {},
   "outputs": [],
   "source": [
    "pred=lg.predict(x_test)"
   ]
  },
  {
   "cell_type": "code",
   "execution_count": 117,
   "metadata": {},
   "outputs": [
    {
     "data": {
      "text/plain": [
       "array([1, 1, 1, ..., 1, 1, 1], dtype=int64)"
      ]
     },
     "execution_count": 117,
     "metadata": {},
     "output_type": "execute_result"
    }
   ],
   "source": [
    "pred"
   ]
  },
  {
   "cell_type": "code",
   "execution_count": 118,
   "metadata": {},
   "outputs": [
    {
     "data": {
      "text/plain": [
       "0.868287887112165"
      ]
     },
     "execution_count": 118,
     "metadata": {},
     "output_type": "execute_result"
    }
   ],
   "source": [
    "accuracy_score(y_test,pred)"
   ]
  },
  {
   "cell_type": "code",
   "execution_count": 119,
   "metadata": {},
   "outputs": [
    {
     "name": "stdout",
     "output_type": "stream",
     "text": [
      "-0.19873344952844607\n"
     ]
    }
   ],
   "source": [
    "from sklearn.metrics import r2_score\n",
    "print(r2_score(y_test,pred))"
   ]
  },
  {
   "cell_type": "markdown",
   "metadata": {},
   "source": [
    "r2 score is decreased by using lasso and ridge regression\n"
   ]
  },
  {
   "cell_type": "code",
   "execution_count": null,
   "metadata": {},
   "outputs": [],
   "source": []
  },
  {
   "cell_type": "code",
   "execution_count": null,
   "metadata": {},
   "outputs": [],
   "source": []
  },
  {
   "cell_type": "code",
   "execution_count": 120,
   "metadata": {},
   "outputs": [
    {
     "name": "stdout",
     "output_type": "stream",
     "text": [
      "error\n",
      "mean absolute error 0.13171211288783508\n",
      "mean square error 0.13171211288783508\n"
     ]
    }
   ],
   "source": [
    "print (\"error\")\n",
    "from sklearn.metrics import mean_absolute_error,mean_squared_error\n",
    "print(\"mean absolute error\",mean_absolute_error(y_test,pred))\n",
    "print(\"mean square error\",mean_squared_error(y_test,pred))"
   ]
  },
  {
   "cell_type": "code",
   "execution_count": 121,
   "metadata": {},
   "outputs": [],
   "source": [
    "from sklearn.metrics import confusion_matrix"
   ]
  },
  {
   "cell_type": "code",
   "execution_count": 122,
   "metadata": {},
   "outputs": [
    {
     "data": {
      "text/plain": [
       "array([[ 1713,  6979],\n",
       "       [ 2131, 58343]], dtype=int64)"
      ]
     },
     "execution_count": 122,
     "metadata": {},
     "output_type": "execute_result"
    }
   ],
   "source": [
    "confusion_matrix(y_test,pred)"
   ]
  },
  {
   "cell_type": "code",
   "execution_count": null,
   "metadata": {},
   "outputs": [],
   "source": []
  },
  {
   "cell_type": "code",
   "execution_count": 123,
   "metadata": {},
   "outputs": [
    {
     "name": "stdout",
     "output_type": "stream",
     "text": [
      "              precision    recall  f1-score   support\n",
      "\n",
      "           0       0.45      0.20      0.27      8692\n",
      "           1       0.89      0.96      0.93     60474\n",
      "\n",
      "    accuracy                           0.87     69166\n",
      "   macro avg       0.67      0.58      0.60     69166\n",
      "weighted avg       0.84      0.87      0.85     69166\n",
      "\n"
     ]
    }
   ],
   "source": [
    "print (classification_report(y_test,pred))"
   ]
  },
  {
   "cell_type": "markdown",
   "metadata": {},
   "source": []
  },
  {
   "cell_type": "code",
   "execution_count": null,
   "metadata": {},
   "outputs": [],
   "source": []
  },
  {
   "cell_type": "markdown",
   "metadata": {},
   "source": []
  },
  {
   "cell_type": "code",
   "execution_count": 124,
   "metadata": {},
   "outputs": [],
   "source": [
    "# decission tree"
   ]
  },
  {
   "cell_type": "code",
   "execution_count": 125,
   "metadata": {},
   "outputs": [
    {
     "name": "stdout",
     "output_type": "stream",
     "text": [
      "0.8655987045658271\n",
      "\n",
      "\n",
      "[[ 4337  4355]\n",
      " [ 4941 55533]]\n",
      "\n",
      "\n",
      "              precision    recall  f1-score   support\n",
      "\n",
      "           0       0.47      0.50      0.48      8692\n",
      "           1       0.93      0.92      0.92     60474\n",
      "\n",
      "    accuracy                           0.87     69166\n",
      "   macro avg       0.70      0.71      0.70     69166\n",
      "weighted avg       0.87      0.87      0.87     69166\n",
      "\n"
     ]
    }
   ],
   "source": [
    "dtc=DecisionTreeClassifier()   #(critererion='gint') by default  ,(critererion='entropy')\n",
    "dtc.fit(x_train,y_train)\n",
    "preddtc=dtc.predict(x_test)\n",
    "print(accuracy_score(y_test,preddtc))\n",
    "print('\\n')\n",
    "print(confusion_matrix(y_test,preddtc))\n",
    "print('\\n')\n",
    "print(classification_report(y_test,preddtc))"
   ]
  },
  {
   "cell_type": "code",
   "execution_count": 126,
   "metadata": {},
   "outputs": [],
   "source": [
    "# knn"
   ]
  },
  {
   "cell_type": "code",
   "execution_count": 127,
   "metadata": {},
   "outputs": [
    {
     "name": "stdout",
     "output_type": "stream",
     "text": [
      "0.8655987045658271\n",
      "\n",
      "\n",
      "[[ 4337  4355]\n",
      " [ 4941 55533]]\n",
      "\n",
      "\n",
      "              precision    recall  f1-score   support\n",
      "\n",
      "           0       0.47      0.50      0.48      8692\n",
      "           1       0.93      0.92      0.92     60474\n",
      "\n",
      "    accuracy                           0.87     69166\n",
      "   macro avg       0.70      0.71      0.70     69166\n",
      "weighted avg       0.87      0.87      0.87     69166\n",
      "\n"
     ]
    }
   ],
   "source": [
    "knn=KNeighborsClassifier()   #(k=10)\n",
    "knn.fit(x_train,y_train)\n",
    "predknn=dtc.predict(x_test)\n",
    "print(accuracy_score(y_test,predknn))\n",
    "print('\\n')\n",
    "print(confusion_matrix(y_test,predknn))\n",
    "print('\\n')\n",
    "print(classification_report(y_test,predknn))"
   ]
  },
  {
   "cell_type": "code",
   "execution_count": null,
   "metadata": {},
   "outputs": [],
   "source": []
  },
  {
   "cell_type": "code",
   "execution_count": null,
   "metadata": {},
   "outputs": [],
   "source": []
  },
  {
   "cell_type": "code",
   "execution_count": null,
   "metadata": {},
   "outputs": [],
   "source": []
  }
 ],
 "metadata": {
  "kernelspec": {
   "display_name": "Python 3",
   "language": "python",
   "name": "python3"
  },
  "language_info": {
   "codemirror_mode": {
    "name": "ipython",
    "version": 3
   },
   "file_extension": ".py",
   "mimetype": "text/x-python",
   "name": "python",
   "nbconvert_exporter": "python",
   "pygments_lexer": "ipython3",
   "version": "3.8.5"
  }
 },
 "nbformat": 4,
 "nbformat_minor": 4
}
