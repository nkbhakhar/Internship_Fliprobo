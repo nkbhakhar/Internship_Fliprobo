{
 "cells": [
  {
   "cell_type": "code",
   "execution_count": null,
   "metadata": {},
   "outputs": [],
   "source": [
    "#import all the required libraries\n",
    "import pandas as pd\n",
    "import selenium\n",
    "from selenium import webdriver\n",
    "from selenium.common.exceptions import NoSuchElementException"
   ]
  },
  {
   "cell_type": "code",
   "execution_count": null,
   "metadata": {},
   "outputs": [],
   "source": [
    "#initialising driver\n",
    "driver= webdriver.Chrome(r\"C:\\Users\\Dark box\\Downloads\\chromedriver_win32\\chromedriver.exe\")"
   ]
  },
  {
   "cell_type": "raw",
   "metadata": {},
   "source": [
    "Q 1. Scrape the details of most viewed videos on YouTube from Wikipedia:\n",
    "Url= https://en.wikipedia.org/wiki/List_of_most-viewed_YouTube_videos\n",
    " You need to find following details:\n",
    "A) Rank\n",
    "B) Name\n",
    "C) Artist\n",
    "D) Upload date\n",
    "E) Views\n",
    "\n",
    "Answer. 1"
   ]
  },
  {
   "cell_type": "code",
   "execution_count": null,
   "metadata": {},
   "outputs": [],
   "source": [
    "#providing url to driver\n",
    "driver.get(\"https://en.wikipedia.org/wiki/List_of_most-viewed_YouTube_videos\")"
   ]
  },
  {
   "cell_type": "code",
   "execution_count": null,
   "metadata": {},
   "outputs": [],
   "source": [
    "# empty list to store data in it \n",
    "Rank=[]\n",
    "Name=[]\n",
    "Artist=[]\n",
    "Upload_date=[]\n",
    "Views=[]"
   ]
  },
  {
   "cell_type": "code",
   "execution_count": null,
   "metadata": {},
   "outputs": [],
   "source": [
    "try:\n",
    "    for i in driver.find_elements_by_xpath(\"//div/table[3]/tbody/tr/td[1]\"):\n",
    "        Rank.append(i.text)\n",
    "except NoSuchElementException as e:\n",
    "    print(\"No such element present\")# will show if xpath changes "
   ]
  },
  {
   "cell_type": "code",
   "execution_count": null,
   "metadata": {},
   "outputs": [],
   "source": [
    "try:\n",
    "    for i in driver.find_elements_by_xpath(\"//div/table[3]/tbody/tr/td[2]\"):\n",
    "        Name.append(i.text)\n",
    "except NoSuchElementException as e:\n",
    "    print(\"No such element present\")# will show if xpath changes "
   ]
  },
  {
   "cell_type": "code",
   "execution_count": null,
   "metadata": {},
   "outputs": [],
   "source": [
    "try:\n",
    "    for i in driver.find_elements_by_xpath(\"//div/table[3]/tbody/tr/td[3]\"):\n",
    "        Artist.append(i.text)\n",
    "except NoSuchElementException as e:\n",
    "    print(\"No such element present\")# will show if xpath changes "
   ]
  },
  {
   "cell_type": "code",
   "execution_count": null,
   "metadata": {},
   "outputs": [],
   "source": [
    "try:\n",
    "    for i in driver.find_elements_by_xpath(\"//div/table[3]/tbody/tr/td[4]\"):\n",
    "        Upload_date.append(i.text)\n",
    "except NoSuchElementException as e:\n",
    "    print(\"No such element present\")# will show if xpath changes "
   ]
  },
  {
   "cell_type": "code",
   "execution_count": null,
   "metadata": {},
   "outputs": [],
   "source": [
    "try:\n",
    "    for i in driver.find_elements_by_xpath(\"//div/table[3]/tbody/tr/td[5]\"):\n",
    "        Views.append(i.text)\n",
    "except NoSuchElementException as e:\n",
    "    print(\"No such element present\")# will show if xpath changes "
   ]
  },
  {
   "cell_type": "code",
   "execution_count": null,
   "metadata": {},
   "outputs": [],
   "source": [
    "#creating data frame \n",
    "Youtube_mostviewed=pd.DataFrame({\"Rank\":Rank[0:],\"Name\":Name[:],\"Artist\":Artist[:],\"Uplode_Date\":Upload_date[:],\"Views\":Views[:]})"
   ]
  },
  {
   "cell_type": "code",
   "execution_count": null,
   "metadata": {},
   "outputs": [],
   "source": [
    "df=Youtube_mostviewed.set_index('Rank')# making rank as index"
   ]
  },
  {
   "cell_type": "code",
   "execution_count": null,
   "metadata": {},
   "outputs": [],
   "source": [
    "df"
   ]
  },
  {
   "cell_type": "markdown",
   "metadata": {},
   "source": [
    "2. Scrape the details team India’s international fixtures from bcci.tv.\n",
    "Url = https://www.bcci.tv/.\n",
    "You need to find following details:\n",
    "A) Match title (I.e. 1st ODI)\n",
    "B) Series\n",
    "C) Place\n",
    "D) Date\n",
    "E) Time\n",
    "Note: - From bcci.tv home page you have reach to the international fixture page through code"
   ]
  },
  {
   "cell_type": "code",
   "execution_count": null,
   "metadata": {},
   "outputs": [],
   "source": [
    "#providing url to driver\n",
    "driver.get(\"https://www.bcci.tv/.\")"
   ]
  },
  {
   "cell_type": "code",
   "execution_count": 347,
   "metadata": {},
   "outputs": [],
   "source": [
    "try:\n",
    "    fixture=driver.find_element_by_xpath(\"/html/body/footer/div/nav/ul/li[2]/ul/li[1]/a\")\n",
    "    fixture.click()\n",
    "except NoSuchElementException as e:\n",
    "    print(\"Element not found\")"
   ]
  },
  {
   "cell_type": "code",
   "execution_count": 348,
   "metadata": {},
   "outputs": [],
   "source": [
    "# empty list to store data in it \n",
    "Match_title=[]\n",
    "Series=[]\n",
    "Place=[]\n",
    "Date1=[]\n",
    "Time=[]"
   ]
  },
  {
   "cell_type": "code",
   "execution_count": 349,
   "metadata": {},
   "outputs": [],
   "source": [
    "try:\n",
    "    for i in driver.find_elements_by_xpath('//strong[@class=\"fixture__name fixture__name--with-margin\"]'):\n",
    "        Match_title.append(i.text)\n",
    "except NoSuchElementException as e:\n",
    "    Match_title.append(\"NAN\") # will show if xpath changes "
   ]
  },
  {
   "cell_type": "code",
   "execution_count": 350,
   "metadata": {},
   "outputs": [],
   "source": [
    "try:\n",
    "    for i in driver.find_elements_by_xpath('//span[@class=\"u-unskewed-text fixture__tournament-label u-truncated\"]'):\n",
    "        Series.append(i.text)\n",
    "except NoSuchElementException as e:\n",
    "    Series.append('NaN')# will show if xpath changes "
   ]
  },
  {
   "cell_type": "code",
   "execution_count": 351,
   "metadata": {},
   "outputs": [],
   "source": [
    "try:\n",
    "    for i in driver.find_elements_by_xpath('//p[@class=\"fixture__additional-info\"]/span'):\n",
    "        Place.append(i.text)\n",
    "except NoSuchElementException as e:\n",
    "    Place.append('NaN')# will show if xpath changes "
   ]
  },
  {
   "cell_type": "code",
   "execution_count": 352,
   "metadata": {},
   "outputs": [],
   "source": [
    "try:\n",
    "    for i in driver.find_elements_by_xpath('//div/span[@class=\"fixture__date\"]|//div/span[@class=\"fixture__month\"]'):\n",
    "        Date1.append(i.text)\n",
    "except NoSuchElementException as e:\n",
    "    Date1.append('NaN')# will show if xpath changes "
   ]
  },
  {
   "cell_type": "code",
   "execution_count": 353,
   "metadata": {},
   "outputs": [
    {
     "data": {
      "text/plain": [
       "['18',\n",
       " 'JUNE',\n",
       " '04',\n",
       " 'AUGUST',\n",
       " '12',\n",
       " 'AUGUST',\n",
       " '25',\n",
       " 'AUGUST',\n",
       " '02',\n",
       " 'SEPTEMBER',\n",
       " '10',\n",
       " 'SEPTEMBER']"
      ]
     },
     "execution_count": 353,
     "metadata": {},
     "output_type": "execute_result"
    }
   ],
   "source": [
    "Date1"
   ]
  },
  {
   "cell_type": "code",
   "execution_count": 354,
   "metadata": {},
   "outputs": [],
   "source": [
    "Date=[]"
   ]
  },
  {
   "cell_type": "code",
   "execution_count": 355,
   "metadata": {},
   "outputs": [],
   "source": [
    "for i in range(0,len(Date1),2):\n",
    "    Date.append(str(Date1[i])+'-'+Date1[i+1])"
   ]
  },
  {
   "cell_type": "code",
   "execution_count": 356,
   "metadata": {},
   "outputs": [
    {
     "data": {
      "text/plain": [
       "['18-JUNE',\n",
       " '04-AUGUST',\n",
       " '12-AUGUST',\n",
       " '25-AUGUST',\n",
       " '02-SEPTEMBER',\n",
       " '10-SEPTEMBER']"
      ]
     },
     "execution_count": 356,
     "metadata": {},
     "output_type": "execute_result"
    }
   ],
   "source": [
    "Date"
   ]
  },
  {
   "cell_type": "code",
   "execution_count": 357,
   "metadata": {},
   "outputs": [],
   "source": [
    "try:\n",
    "    for i in driver.find_elements_by_xpath('//div/span[@class=\"fixture__time\"]'):\n",
    "        Time.append(i.text)\n",
    "except NoSuchElementException as e:\n",
    "    print(\"No such element present\")# will show if xpath changes "
   ]
  },
  {
   "cell_type": "code",
   "execution_count": 358,
   "metadata": {},
   "outputs": [],
   "source": [
    "#creating data frame \n",
    "Fixture=pd.DataFrame({\"Match_title\":Match_title[:],\"Series\":Series[:],\"Place\":Place[:],\"Date\":Date[:],\"Time\":Time[:]})"
   ]
  },
  {
   "cell_type": "code",
   "execution_count": 359,
   "metadata": {},
   "outputs": [
    {
     "data": {
      "text/html": [
       "<div>\n",
       "<style scoped>\n",
       "    .dataframe tbody tr th:only-of-type {\n",
       "        vertical-align: middle;\n",
       "    }\n",
       "\n",
       "    .dataframe tbody tr th {\n",
       "        vertical-align: top;\n",
       "    }\n",
       "\n",
       "    .dataframe thead th {\n",
       "        text-align: right;\n",
       "    }\n",
       "</style>\n",
       "<table border=\"1\" class=\"dataframe\">\n",
       "  <thead>\n",
       "    <tr style=\"text-align: right;\">\n",
       "      <th></th>\n",
       "      <th>Match_title</th>\n",
       "      <th>Series</th>\n",
       "      <th>Place</th>\n",
       "      <th>Date</th>\n",
       "      <th>Time</th>\n",
       "    </tr>\n",
       "  </thead>\n",
       "  <tbody>\n",
       "    <tr>\n",
       "      <th>0</th>\n",
       "      <td>Final</td>\n",
       "      <td>ICC WORLD TEST CHAMPIONSHIP FINAL</td>\n",
       "      <td>The Ageas Bowl, Southampton</td>\n",
       "      <td>18-JUNE</td>\n",
       "      <td>15:30 IST</td>\n",
       "    </tr>\n",
       "    <tr>\n",
       "      <th>1</th>\n",
       "      <td>1st Test</td>\n",
       "      <td>ENGLAND V INDIA 2021</td>\n",
       "      <td>Trent Bridge, Nottingham</td>\n",
       "      <td>04-AUGUST</td>\n",
       "      <td>15:30 IST</td>\n",
       "    </tr>\n",
       "    <tr>\n",
       "      <th>2</th>\n",
       "      <td>2nd Test</td>\n",
       "      <td>ENGLAND V INDIA 2021</td>\n",
       "      <td>Lord's, London</td>\n",
       "      <td>12-AUGUST</td>\n",
       "      <td>15:30 IST</td>\n",
       "    </tr>\n",
       "    <tr>\n",
       "      <th>3</th>\n",
       "      <td>3rd Test</td>\n",
       "      <td>ENGLAND V INDIA 2021</td>\n",
       "      <td>Headingley, Leeds</td>\n",
       "      <td>25-AUGUST</td>\n",
       "      <td>15:30 IST</td>\n",
       "    </tr>\n",
       "    <tr>\n",
       "      <th>4</th>\n",
       "      <td>4th Test</td>\n",
       "      <td>ENGLAND V INDIA 2021</td>\n",
       "      <td>The Oval, London</td>\n",
       "      <td>02-SEPTEMBER</td>\n",
       "      <td>15:30 IST</td>\n",
       "    </tr>\n",
       "    <tr>\n",
       "      <th>5</th>\n",
       "      <td>5th Test</td>\n",
       "      <td>ENGLAND V INDIA 2021</td>\n",
       "      <td>Old Trafford, Manchester</td>\n",
       "      <td>10-SEPTEMBER</td>\n",
       "      <td>15:30 IST</td>\n",
       "    </tr>\n",
       "  </tbody>\n",
       "</table>\n",
       "</div>"
      ],
      "text/plain": [
       "  Match_title                             Series                        Place  \\\n",
       "0       Final  ICC WORLD TEST CHAMPIONSHIP FINAL  The Ageas Bowl, Southampton   \n",
       "1    1st Test               ENGLAND V INDIA 2021     Trent Bridge, Nottingham   \n",
       "2    2nd Test               ENGLAND V INDIA 2021               Lord's, London   \n",
       "3    3rd Test               ENGLAND V INDIA 2021            Headingley, Leeds   \n",
       "4    4th Test               ENGLAND V INDIA 2021             The Oval, London   \n",
       "5    5th Test               ENGLAND V INDIA 2021     Old Trafford, Manchester   \n",
       "\n",
       "           Date       Time  \n",
       "0       18-JUNE  15:30 IST  \n",
       "1     04-AUGUST  15:30 IST  \n",
       "2     12-AUGUST  15:30 IST  \n",
       "3     25-AUGUST  15:30 IST  \n",
       "4  02-SEPTEMBER  15:30 IST  \n",
       "5  10-SEPTEMBER  15:30 IST  "
      ]
     },
     "execution_count": 359,
     "metadata": {},
     "output_type": "execute_result"
    }
   ],
   "source": [
    "Fixture"
   ]
  },
  {
   "cell_type": "code",
   "execution_count": null,
   "metadata": {},
   "outputs": [],
   "source": []
  }
 ],
 "metadata": {
  "kernelspec": {
   "display_name": "Python 3",
   "language": "python",
   "name": "python3"
  },
  "language_info": {
   "codemirror_mode": {
    "name": "ipython",
    "version": 3
   },
   "file_extension": ".py",
   "mimetype": "text/x-python",
   "name": "python",
   "nbconvert_exporter": "python",
   "pygments_lexer": "ipython3",
   "version": "3.8.5"
  }
 },
 "nbformat": 4,
 "nbformat_minor": 4
}
